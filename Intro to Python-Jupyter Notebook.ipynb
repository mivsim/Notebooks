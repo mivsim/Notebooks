{
 "cells": [
  {
   "cell_type": "markdown",
   "metadata": {},
   "source": [
    "# Working with Variables"
   ]
  },
  {
   "cell_type": "code",
   "execution_count": null,
   "metadata": {},
   "outputs": [],
   "source": [
    "'Hello'                #this is not a variable...this is a literal value"
   ]
  },
  {
   "cell_type": "code",
   "execution_count": null,
   "metadata": {},
   "outputs": [],
   "source": [
    "v='Python'              #v is a variable that holds the string Python\n",
    "                        #anything that comes after # will not be executed, this is used for comments"
   ]
  },
  {
   "cell_type": "code",
   "execution_count": null,
   "metadata": {},
   "outputs": [],
   "source": [
    "v                       #this will display the value of v"
   ]
  },
  {
   "cell_type": "code",
   "execution_count": null,
   "metadata": {},
   "outputs": [],
   "source": [
    "y='Python 2'            #y is a variable that holds the string Python 2"
   ]
  },
  {
   "cell_type": "code",
   "execution_count": null,
   "metadata": {},
   "outputs": [],
   "source": [
    "v                       #this will only display the last variable\n",
    "y"
   ]
  },
  {
   "cell_type": "code",
   "execution_count": null,
   "metadata": {},
   "outputs": [],
   "source": [
    "print(v)                #if you use the print function you can see all your variables\n",
    "print(y)"
   ]
  },
  {
   "cell_type": "code",
   "execution_count": null,
   "metadata": {},
   "outputs": [],
   "source": [
    "type(v)                 #the type function will display the variable type"
   ]
  },
  {
   "cell_type": "code",
   "execution_count": null,
   "metadata": {},
   "outputs": [],
   "source": [
    "a=1000                 #the variable a stores the value of 1000"
   ]
  },
  {
   "cell_type": "code",
   "execution_count": null,
   "metadata": {},
   "outputs": [],
   "source": [
    "type(a)                #display the variable type of a"
   ]
  },
  {
   "cell_type": "code",
   "execution_count": null,
   "metadata": {},
   "outputs": [],
   "source": [
    "string1='The quick brown fox jumped over the two lazy hounds'         #create a string variable named string1\n",
    "string2='The last sentence contains every letter in the English alphabet'    #create a string variable named string2"
   ]
  },
  {
   "cell_type": "code",
   "execution_count": null,
   "metadata": {},
   "outputs": [],
   "source": [
    "print(string1,string2)            #this will print both strings since they're in the same print function\n",
    "print(string1)                    #this will print string1 only\n",
    "print(string2)                    #this will print string2 only....notice that it is printed on a new line"
   ]
  },
  {
   "cell_type": "code",
   "execution_count": null,
   "metadata": {},
   "outputs": [],
   "source": [
    "print(string1,string2,sep=\"|\")  #this will print both strings with each string separated by a pipe sign"
   ]
  },
  {
   "cell_type": "code",
   "execution_count": null,
   "metadata": {},
   "outputs": [],
   "source": [
    "print(string1,string2,end=\"|\")  #this will print both string with a pipe sign at the end"
   ]
  },
  {
   "cell_type": "code",
   "execution_count": null,
   "metadata": {},
   "outputs": [],
   "source": [
    "#you can create a multiline string by enclosing your string inside triple quotes\n",
    "string3 = '''\n",
    "This\n",
    "lets\n",
    "you\n",
    "put\n",
    "your\n",
    "string\n",
    "on\n",
    "multiple\n",
    "lines!\n",
    "'''"
   ]
  },
  {
   "cell_type": "code",
   "execution_count": null,
   "metadata": {},
   "outputs": [],
   "source": [
    "print(string3)             #print the multiline string"
   ]
  },
  {
   "cell_type": "code",
   "execution_count": null,
   "metadata": {},
   "outputs": [],
   "source": [
    "f=999.99999                #create a variable to store a number that contains decimals"
   ]
  },
  {
   "cell_type": "code",
   "execution_count": null,
   "metadata": {},
   "outputs": [],
   "source": [
    "type(f)                   #display the variable type of f"
   ]
  },
  {
   "cell_type": "code",
   "execution_count": null,
   "metadata": {},
   "outputs": [],
   "source": [
    "myName='Joe'             #create a variable to store a name\n",
    "myAge=25                 #create a variable to store an age"
   ]
  },
  {
   "cell_type": "code",
   "execution_count": null,
   "metadata": {},
   "outputs": [],
   "source": [
    "myName,myAge='Joe',25   #you can assign multiple variable in a single line"
   ]
  },
  {
   "cell_type": "code",
   "execution_count": null,
   "metadata": {},
   "outputs": [],
   "source": [
    "string4=\"My name is \" + myName     #create a string that concatenates text with a variable using the + \n",
    "print(string4)"
   ]
  },
  {
   "cell_type": "code",
   "execution_count": null,
   "metadata": {},
   "outputs": [],
   "source": [
    "string4=\"My name is \" + myName + \" and I am \" + myAge + \" years old\"\n",
    "print(string4)                           #this should return an error...a string can't be concatenated to a number"
   ]
  },
  {
   "cell_type": "code",
   "execution_count": null,
   "metadata": {},
   "outputs": [],
   "source": [
    "string4=\"My name is \" + myName + \" and I am \" + str(myAge) + \" years old\"   #the integer variable must be converted to a string\n",
    "print(string4)"
   ]
  },
  {
   "cell_type": "code",
   "execution_count": null,
   "metadata": {},
   "outputs": [],
   "source": [
    "print(\"My name is {0} and I am {1} years old\".format(myName,myAge))  #use the format function to print multiple variables"
   ]
  },
  {
   "cell_type": "code",
   "execution_count": null,
   "metadata": {},
   "outputs": [],
   "source": [
    "print(f'My name is {myName} and I am {myAge} years old')      #use the print f function if you like"
   ]
  },
  {
   "cell_type": "markdown",
   "metadata": {},
   "source": [
    "# Exercise 1"
   ]
  },
  {
   "cell_type": "markdown",
   "metadata": {},
   "source": [
    "<li>In a single line, assign your first and last name to two separate variables, firstName and lastName<br>\n",
    "<li>Print the datatype of each variable in a sentence using the print statement.For example, it should say something like <b>My variable has a data type of str</b><br>\n",
    "<li>Create a variable that will store your hometown<br>   \n",
    "<li>Print a sentence that will display your name and hometown using the print format function.For example, it should say something like <b>My name is Joe Smith and my hometown is Atlanta.</b>    \n",
    "\n"
   ]
  }
 ],
 "metadata": {
  "kernelspec": {
   "display_name": "Python 3",
   "language": "python",
   "name": "python3"
  },
  "language_info": {
   "codemirror_mode": {
    "name": "ipython",
    "version": 3
   },
   "file_extension": ".py",
   "mimetype": "text/x-python",
   "name": "python",
   "nbconvert_exporter": "python",
   "pygments_lexer": "ipython3",
   "version": "3.7.3"
  }
 },
 "nbformat": 4,
 "nbformat_minor": 2
}
