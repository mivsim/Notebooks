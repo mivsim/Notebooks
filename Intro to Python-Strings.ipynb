{
 "cells": [
  {
   "cell_type": "markdown",
   "metadata": {},
   "source": [
    "# Strings"
   ]
  },
  {
   "cell_type": "markdown",
   "metadata": {},
   "source": [
    "A string is made up of character data. A string is enclosed inside a single quote or double quote. Triple quotes allow a string to repeat over multiple lines."
   ]
  },
  {
   "cell_type": "code",
   "execution_count": null,
   "metadata": {},
   "outputs": [],
   "source": [
    "string1='Welcome to Python'        #string1 is the name of the string variable that holds the text\n",
    "print(string1)                     #use the print function to print the value of the variable"
   ]
  },
  {
   "cell_type": "code",
   "execution_count": null,
   "metadata": {},
   "outputs": [],
   "source": [
    "#this is an exampale of using triple quotes\n",
    "string2 = '''                       \n",
    "Welcome\n",
    "to\n",
    "Python\n",
    "'''\n",
    "print(string2)"
   ]
  },
  {
   "cell_type": "code",
   "execution_count": null,
   "metadata": {},
   "outputs": [],
   "source": [
    "repeatingString='Welcome to Python' * 5     #a string can be repeated n times by using the * n syntax\n",
    "print(repeatingString)"
   ]
  },
  {
   "cell_type": "markdown",
   "metadata": {},
   "source": [
    "# Non-printing characters"
   ]
  },
  {
   "cell_type": "markdown",
   "metadata": {},
   "source": [
    "Some special characters are called non-printing characters because they produce no visible output. Below is a sample list."
   ]
  },
  {
   "cell_type": "markdown",
   "metadata": {},
   "source": [
    "<table><tr><th>Character</th><th>Description</th></tr>\n",
    "    <tr><td>\\n</td><td>Newline</td></tr>\n",
    "    <tr><td>\\t</td><td>Tab</td></tr>\n",
    "    <tr><td>\\r</td><td>Carriage Return</td></tr>\n",
    "</table>"
   ]
  },
  {
   "cell_type": "code",
   "execution_count": null,
   "metadata": {},
   "outputs": [],
   "source": [
    "print(\"Here is line 1\\nAnd here is line 2\")      #this prints a new line between line1 and line2"
   ]
  },
  {
   "cell_type": "code",
   "execution_count": null,
   "metadata": {},
   "outputs": [],
   "source": [
    "print(\"1 + 1:\\t2\")         #this prints a tab before the answer"
   ]
  },
  {
   "cell_type": "markdown",
   "metadata": {},
   "source": [
    "# String Functions"
   ]
  },
  {
   "cell_type": "markdown",
   "metadata": {},
   "source": [
    "Below is a list of some string functions"
   ]
  },
  {
   "cell_type": "markdown",
   "metadata": {},
   "source": [
    "<table><tr><th>Function</th><th>Description</th></tr>\n",
    "    <tr><td>upper()</td><td>returns the string in uppercase</td></tr>\n",
    "    <tr><td>lower()</td><td>returns the string in lowercase</td></tr>\n",
    "    <tr><td>title()</td><td>returns the string in titlecase</td></tr>\n",
    "    <tr><td>strip()</td><td>strips nonprinting characters from the string</td></tr>\n",
    "    <tr><td>len()</td><td>returns the number of characters in the string</td></tr>\n",
    "    <tr><td>replace()</td><td>replaces characters in a string</td></tr>\n",
    "    <tr><td>split()</td><td>converts a string into any list of characters using a specified delimiter</td></tr>\n",
    "    <tr><td>join()</td><td>converts a list into a string using the specified delimiter</td></tr>\n",
    "    <tr><td>startswith()</td><td>returns True or False if the string starts with the supplied parameter</td></tr>\n",
    "    <tr><td>endswith()</td><td>returns True or False if the string ends with the supplied parameter</td></tr>\n",
    "        </table>\n",
    "    \n",
    "    "
   ]
  },
  {
   "cell_type": "code",
   "execution_count": null,
   "metadata": {},
   "outputs": [],
   "source": [
    "stringTest='I hope you are really enjoying about Python strings  '\n",
    "print(stringTest.upper())           #convert to uppercase\n",
    "print(stringTest.lower())           #convert to lowercase\n",
    "print(stringTest.title())           #convert to titlecase\n",
    "print(stringTest.strip())           #remove any nonprintable character\n",
    "print(len(stringTest))              #see the length of the string\n",
    "print(len(stringTest.strip()))      #see the length of the string after the strip method is applied\n",
    "print(stringTest.replace(\"I\",\"We\")) #replace the word I with the word We"
   ]
  },
  {
   "cell_type": "code",
   "execution_count": null,
   "metadata": {},
   "outputs": [],
   "source": [
    "stringTest    #The value of this variable has not changed "
   ]
  },
  {
   "cell_type": "code",
   "execution_count": null,
   "metadata": {},
   "outputs": [],
   "source": [
    "stringTest=stringTest.upper()       #now the value of the variable has changed since it has been assigned to a variable\n",
    "stringTest"
   ]
  },
  {
   "cell_type": "markdown",
   "metadata": {},
   "source": [
    "# Raw Strings\n"
   ]
  },
  {
   "cell_type": "markdown",
   "metadata": {},
   "source": [
    "If a string is treated as a raw string, then all of the characters will be treated as printable characters, even non-printing characters."
   ]
  },
  {
   "cell_type": "code",
   "execution_count": null,
   "metadata": {},
   "outputs": [],
   "source": [
    "string1=r'Hello\\n'\n",
    "string2='Hello\\n'\n",
    "print(string1)   #using the raw string means it will treat the \\n as printable characters\n",
    "print(string2)   "
   ]
  },
  {
   "cell_type": "markdown",
   "metadata": {},
   "source": [
    "# f String"
   ]
  },
  {
   "cell_type": "markdown",
   "metadata": {},
   "source": [
    "You can embed variables inside a sting using f-String functionality."
   ]
  },
  {
   "cell_type": "code",
   "execution_count": null,
   "metadata": {},
   "outputs": [],
   "source": [
    "teacher='Mark'\n",
    "subject='Python'\n",
    "print(f'My name is {teacher} and I\\'m teaching {subject}')      "
   ]
  },
  {
   "cell_type": "markdown",
   "metadata": {},
   "source": [
    "# Slicing"
   ]
  },
  {
   "cell_type": "markdown",
   "metadata": {},
   "source": [
    "Slicing is a way of accessing specific parts of a string using [] notation. For example, string[0:5] will pull the string characters starting at postion 0 (the first character in the string) up to but not including position 5."
   ]
  },
  {
   "cell_type": "code",
   "execution_count": null,
   "metadata": {},
   "outputs": [],
   "source": [
    "stringTest='This is a test string'\n",
    "print(stringTest[:])                  #this will show the entire string\n",
    "print(stringTest[0:4])                #this will show the first 4 characters (position 0 through position 3)\n",
    "print(stringTest[2])                  #this will show the 3rd character in the string (since 2 is the third number from 0)\n",
    "print(stringTest[-1])                 #this will show the last character\n",
    "print(stringTest[5:-2])               #this will show from the 6th character to the third to last character"
   ]
  },
  {
   "cell_type": "markdown",
   "metadata": {},
   "source": [
    "The slice can accept a third parameter which indicates the nth character to print"
   ]
  },
  {
   "cell_type": "code",
   "execution_count": null,
   "metadata": {},
   "outputs": [],
   "source": [
    "print(stringTest[::1])               #this will print every characters\n",
    "print(stringTest[::2])               #this will print every other character\n",
    "print(stringTest[::3])               #this will print every third character\n",
    "print(stringTest[::-1])              #this will reverse the string"
   ]
  },
  {
   "cell_type": "code",
   "execution_count": null,
   "metadata": {},
   "outputs": [],
   "source": [
    "stringTest2=stringTest.replace(\"e\",\"ee\")\n",
    "print(stringTest2)\n",
    "stringTest3=stringTest.replace(\"e\",\"ee\").replace(\"i\",\"ii\")   #this is an example of chaining methods\n",
    "print(stringTest3)"
   ]
  },
  {
   "cell_type": "markdown",
   "metadata": {},
   "source": [
    "# Working with strings and lists"
   ]
  },
  {
   "cell_type": "markdown",
   "metadata": {},
   "source": [
    "The <b>split</b> function converts a string into a list of values based on the delimiter"
   ]
  },
  {
   "cell_type": "code",
   "execution_count": null,
   "metadata": {},
   "outputs": [],
   "source": [
    "stringTest='I hope you are really catching on'\n",
    "sentence_list=stringTest.split(' ')   #split creates a list of characters from a string using the specified delimiter\n",
    "print(sentence_list)                  #this example uses a space as the delimiter\n",
    "stringTest='A,B,C,D,E,F,G'\n",
    "letter_list=stringTest.split(',')     #here a comma is used as the delimiter \n",
    "print(letter_list)"
   ]
  },
  {
   "cell_type": "markdown",
   "metadata": {},
   "source": [
    "The <b>join</b> function converts a list of values into a string based on the delimiter"
   ]
  },
  {
   "cell_type": "code",
   "execution_count": null,
   "metadata": {},
   "outputs": [],
   "source": [
    "string_new='*'.join(letter_list)          #join creates a string from a list of characters using the specific delimiter\n",
    "print(string_new)                         #this example uses * as the delimiter"
   ]
  },
  {
   "cell_type": "markdown",
   "metadata": {},
   "source": [
    "# Exercise 1"
   ]
  },
  {
   "cell_type": "markdown",
   "metadata": {},
   "source": [
    "Create a raw string variable that describes how you're enjoying this class, convert it to uppercase and print it\n",
    "\n"
   ]
  },
  {
   "cell_type": "markdown",
   "metadata": {},
   "source": [
    "Replace 'You' with 'I' and 'very' with 'extremely' in the following sentence:<br>\n",
    "       <b>You will be glad you learned how to use the replace method...it comes in very handy!</b>    "
   ]
  },
  {
   "cell_type": "markdown",
   "metadata": {},
   "source": [
    "Use the split function to convert this string into a list using a period(.) as a delimiter and print the list<br>\n",
    "<b>This is a sentence. And this is a sentence too. And so is this'</b>\n",
    "\n"
   ]
  },
  {
   "cell_type": "markdown",
   "metadata": {},
   "source": [
    "Use the join function to convert this list into a string and print the string<b><br>\n",
    "['Strings','have','lots','of','useful','functions','in','Python']\n",
    "\n"
   ]
  }
 ],
 "metadata": {
  "kernelspec": {
   "display_name": "Python 3",
   "language": "python",
   "name": "python3"
  },
  "language_info": {
   "codemirror_mode": {
    "name": "ipython",
    "version": 3
   },
   "file_extension": ".py",
   "mimetype": "text/x-python",
   "name": "python",
   "nbconvert_exporter": "python",
   "pygments_lexer": "ipython3",
   "version": "3.7.3"
  }
 },
 "nbformat": 4,
 "nbformat_minor": 2
}
